{
 "cells": [
  {
   "cell_type": "markdown",
   "metadata": {},
   "source": [
    "# Import Libraries"
   ]
  },
  {
   "cell_type": "code",
   "execution_count": 1,
   "metadata": {},
   "outputs": [],
   "source": [
    "from scipy import stats"
   ]
  },
  {
   "cell_type": "markdown",
   "metadata": {},
   "source": [
    "# Normality Tests"
   ]
  },
  {
   "cell_type": "markdown",
   "metadata": {},
   "source": [
    "## Shapiro-Wilk Test"
   ]
  },
  {
   "cell_type": "markdown",
   "metadata": {},
   "source": [
    "Assumptions:\n",
    "- Observation are independent and identically distributed\n",
    "\n",
    "Hypothesis:\n",
    "- Ho: The sample is Gaussian (normally) distributed\n",
    "- Ha: The sample does not have a Gaussian distribution\n",
    "\n",
    "**Always refer to documentation as well! It is your best friend**"
   ]
  },
  {
   "cell_type": "code",
   "execution_count": 3,
   "metadata": {},
   "outputs": [
    {
     "name": "stdout",
     "output_type": "stream",
     "text": [
      "w_stat=0.895, p_value=0.193\n",
      "Probaly not Gaussian\n"
     ]
    }
   ],
   "source": [
    "#initialize data\n",
    "data = [0.873, 2.817, 0.121, -0.945, -0.055, -1.436, 0.360, -1.478, -1.637, -1.869]\n",
    "\n",
    "#get stat and pvalue\n",
    "w_stat, p_value = stats.shapiro(data)\n",
    "\n",
    "#print stats\n",
    "print('w_stat=%.3f, p_value=%.3f' % (w_stat, p_value))\n",
    "\n",
    "#if statement for hypothesis test\n",
    "if p_value < 0.05:\n",
    "    print('Probably Gaussian')\n",
    "else:\n",
    "    print('Probaly not Gaussian')"
   ]
  },
  {
   "cell_type": "markdown",
   "metadata": {},
   "source": [
    "## D'Agostino's K^2 Test"
   ]
  },
  {
   "cell_type": "markdown",
   "metadata": {},
   "source": [
    "Assumptions:\n",
    "- independed and identically distributed observations\n",
    "\n",
    "Hypothesis:\n",
    "- The sample has a Gaussian distribution\n",
    "- The samples does not have a Gaussian distribution\n",
    "\n"
   ]
  },
  {
   "cell_type": "code",
   "execution_count": 4,
   "metadata": {},
   "outputs": [
    {
     "name": "stdout",
     "output_type": "stream",
     "text": [
      "w_stat=0.895, p_value=0.183\n",
      "Probaly not Gaussian\n"
     ]
    },
    {
     "name": "stderr",
     "output_type": "stream",
     "text": [
      "/home/sbangarh/anaconda3/envs/ds_env/lib/python3.12/site-packages/scipy/stats/_stats_py.py:1971: UserWarning: kurtosistest only valid for n>=20 ... continuing anyway, n=10\n",
      "  k, _ = kurtosistest(a, axis)\n"
     ]
    }
   ],
   "source": [
    "#using data from above\n",
    "test_stat, p_value = stats.normaltest(data)\n",
    "\n",
    "#print stats\n",
    "print('w_stat=%.3f, p_value=%.3f' % (w_stat, p_value))\n",
    "\n",
    "#if statement for hypothesis test\n",
    "if p_value < 0.05:\n",
    "    print('Probably Gaussian')\n",
    "else:\n",
    "    print('Probaly not Gaussian')"
   ]
  },
  {
   "cell_type": "markdown",
   "metadata": {},
   "source": [
    "## Anderson-Dariling Test"
   ]
  },
  {
   "cell_type": "markdown",
   "metadata": {},
   "source": [
    "Assumptions:\n",
    "- Independent and identically distributed observations\n",
    "\n",
    "Hypothesis:\n",
    "- The sample is Gaussian distribution\n",
    "- The sample is not Gaussian distribution"
   ]
  },
  {
   "cell_type": "code",
   "execution_count": 8,
   "metadata": {},
   "outputs": [
    {
     "name": "stdout",
     "output_type": "stream",
     "text": [
      "stat=0.424\n",
      "Probably Gaussian at the 15.0% level\n",
      "Probably Gaussian at the 10.0% level\n",
      "Probably Gaussian at the 5.0% level\n",
      "Probably Gaussian at the 2.5% level\n",
      "Probably Gaussian at the 1.0% level\n"
     ]
    }
   ],
   "source": [
    "# data from above\n",
    "\n",
    "result = stats.anderson(data) #get result\n",
    "\n",
    "print('stat=%.3f' % (result.statistic))\n",
    "\n",
    "for i in range(len(result.critical_values)):\n",
    "    sl, cv = result.significance_level[i], result.critical_values[i] #get significance level and critical value\n",
    "    if result.statistic < cv:\n",
    "        print('Probably Gaussian at the %.1f%% level' % (sl))\n",
    "    else:\n",
    "        print('Probably not Gaussian at the %.1f%% level' % (sl))"
   ]
  },
  {
   "cell_type": "markdown",
   "metadata": {},
   "source": [
    "# Correlation Tests"
   ]
  },
  {
   "cell_type": "markdown",
   "metadata": {},
   "source": [
    "## Pearson's Correlation Coefficient (r)"
   ]
  },
  {
   "cell_type": "markdown",
   "metadata": {},
   "source": [
    "Test for Linear relationship\n",
    "\n",
    "Assumptions:\n",
    "- Independent and identically distributed observations\n",
    "- normally distributed observations\n",
    "- same variance in each observation\n",
    "\n",
    "Hypothesis:\n",
    "- The samples are independent\n",
    "- The samples are not independent"
   ]
  },
  {
   "cell_type": "code",
   "execution_count": 10,
   "metadata": {},
   "outputs": [
    {
     "name": "stdout",
     "output_type": "stream",
     "text": [
      "stat=0.688, p=0.028\n",
      "Probably dependent\n"
     ]
    }
   ],
   "source": [
    "# initialize data\n",
    "data1 = [0.873, 2.817, 0.121, -0.945, -0.055, -1.436, 0.360, -1.478, -1.637, -1.869]\n",
    "data2 = [0.353, 3.517, 0.125, -7.545, -0.555, -1.536, 3.350, -1.578, -3.537, -1.579]\n",
    "\n",
    "#get test stat and pvalue\n",
    "test_stat, p_value = stats.pearsonr(data1, data2)\n",
    "\n",
    "print('stat=%.3f, p=%.3f' % (test_stat, p_value))\n",
    "if p_value > 0.05:\n",
    " print('Probably independent')\n",
    "else:\n",
    " print('Probably dependent')"
   ]
  },
  {
   "cell_type": "markdown",
   "metadata": {},
   "source": [
    "## Spearman's Rank Correlation"
   ]
  },
  {
   "cell_type": "markdown",
   "metadata": {},
   "source": [
    "Test if two samples are in a monotonic relationship\n",
    "\n",
    "Assumptions:\n",
    "- independent and identically distributed observations in each sample\n",
    "- Observations can be ranked\n",
    "\n",
    "Hypothesis:\n",
    "- The two sample are independent\n",
    "- The two samples are not independent"
   ]
  },
  {
   "cell_type": "code",
   "execution_count": 11,
   "metadata": {},
   "outputs": [
    {
     "name": "stdout",
     "output_type": "stream",
     "text": [
      "stat=0.855, p=0.002\n",
      "Probably dependent\n"
     ]
    }
   ],
   "source": [
    "#data initialized above\n",
    "\n",
    "#get test_stat and pvalue\n",
    "test_stat, p_value = stats.spearmanr(data1, data2)\n",
    "\n",
    "print('stat=%.3f, p=%.3f' % (test_stat, p_value))\n",
    "if p_value > 0.05:\n",
    " print('Probably independent')\n",
    "else:\n",
    " print('Probably dependent')"
   ]
  },
  {
   "cell_type": "markdown",
   "metadata": {},
   "source": [
    "## Kendall's Rank Correlation"
   ]
  },
  {
   "cell_type": "markdown",
   "metadata": {},
   "source": [
    "Tests if two samples have a monotonic relationship\n",
    "\n",
    "Assumptions:\n",
    "- independent and identically distributed observations\n",
    "- observations in each sample can be ranked\n",
    "\n",
    "Hypothesis:\n",
    "- The two sample are independent\n",
    "- The two samples are not independent"
   ]
  },
  {
   "cell_type": "code",
   "execution_count": 14,
   "metadata": {},
   "outputs": [
    {
     "name": "stdout",
     "output_type": "stream",
     "text": [
      "stat=0.733, p=0.002\n",
      "Probably dependent\n"
     ]
    }
   ],
   "source": [
    "# data from above\n",
    "\n",
    "#get stat and p_value\n",
    "test_stat, p_value = stats.kendalltau(data1, data2)\n",
    "\n",
    "print('stat=%.3f, p=%.3f' % (test_stat, p_value))\n",
    "if p_value > 0.05:\n",
    " print('Probably independent')\n",
    "else:\n",
    " print('Probably dependent')"
   ]
  },
  {
   "cell_type": "markdown",
   "metadata": {},
   "source": [
    "## Chi-Squared Test"
   ]
  },
  {
   "cell_type": "markdown",
   "metadata": {},
   "source": [
    "Two categorical variables independent or not\n",
    "\n",
    "Assumptions:\n",
    "- observations used in contingency table are independent\n",
    "- >= 25 examples in each cell of contingency table\n",
    "\n",
    "Hypothesis:\n",
    "- The samples are independent\n",
    "- There is a dependency between samples; the samples are not independent"
   ]
  },
  {
   "cell_type": "code",
   "execution_count": 15,
   "metadata": {},
   "outputs": [
    {
     "name": "stdout",
     "output_type": "stream",
     "text": [
      "stat=0.272, p=0.873\n",
      "Probably independent\n"
     ]
    }
   ],
   "source": [
    "#initialize table\n",
    "table = [[10, 20, 30],[6,  9,  17]]\n",
    "\n",
    "#get stats\n",
    "stat, p, dof, expected = stats.chi2_contingency(table)\n",
    "\n",
    "#print results\n",
    "print('stat=%.3f, p=%.3f' % (stat, p))\n",
    "if p > 0.05:\n",
    " print('Probably independent')\n",
    "else:\n",
    " print('Probably dependent')"
   ]
  },
  {
   "cell_type": "markdown",
   "metadata": {},
   "source": [
    "# Stationary Tests"
   ]
  },
  {
   "cell_type": "markdown",
   "metadata": {},
   "source": [
    "## Augmented Dickey-Fuller Unit Root Test"
   ]
  },
  {
   "cell_type": "markdown",
   "metadata": {},
   "source": [
    "Test to determine if time series has a unit root; trend or generally autoregressive\n",
    "\n",
    "Assumptions:\n",
    "- Temporally ordered observations\n",
    "\n",
    "Hypothesis:\n",
    "- A unit root is present (series is non-stationary)\n",
    "- A unit root is not present (series is stationary)"
   ]
  },
  {
   "cell_type": "code",
   "execution_count": 17,
   "metadata": {},
   "outputs": [
    {
     "name": "stdout",
     "output_type": "stream",
     "text": [
      "stat=0.992, p=0.994\n",
      "Probably not Stationary\n"
     ]
    }
   ],
   "source": [
    "# Example of the Augmented Dickey-Fuller unit root test\n",
    "\n",
    "#import module\n",
    "from statsmodels.tsa.stattools import adfuller\n",
    "\n",
    "data = [0, 1, 2, 3, 4, 5, 6, 7, 8, 9]\n",
    "\n",
    "#get stats\n",
    "stat, p, lags, obs, crit, t = adfuller(data)\n",
    "\n",
    "#print results\n",
    "print('stat=%.3f, p=%.3f' % (stat, p))\n",
    "if p > 0.05:\n",
    " print('Probably not Stationary')\n",
    "else:\n",
    " print('Probably Stationary')"
   ]
  },
  {
   "cell_type": "markdown",
   "metadata": {},
   "source": [
    "## Kwiatkowski-Phillips-Schmidt-Shin"
   ]
  },
  {
   "cell_type": "markdown",
   "metadata": {},
   "source": [
    "Time series stationary or not\n",
    "\n",
    "Assumptions:\n",
    "- temporally ordered observations\n",
    "\n",
    "Hypothesis:\n",
    "- The time series is trend-stationary\n",
    "- The time series is not trend stationary"
   ]
  },
  {
   "cell_type": "code",
   "execution_count": 18,
   "metadata": {},
   "outputs": [
    {
     "name": "stdout",
     "output_type": "stream",
     "text": [
      "stat=0.594, p=0.023\n",
      "Probably not Stationary\n"
     ]
    }
   ],
   "source": [
    "#import module\n",
    "from statsmodels.tsa.stattools import kpss\n",
    "\n",
    "data = [0, 1, 2, 3, 4, 5, 6, 7, 8, 9]\n",
    "\n",
    "#get results\n",
    "stat, p, lags, crit = kpss(data)\n",
    "\n",
    "#print results\n",
    "print('stat=%.3f, p=%.3f' % (stat, p))\n",
    "if p > 0.05:\n",
    " print('Probably Stationary')\n",
    "else:\n",
    " print('Probably not Stationary')"
   ]
  },
  {
   "cell_type": "markdown",
   "metadata": {},
   "source": [
    "# Parametric Statistical Hypothesis Tests"
   ]
  },
  {
   "cell_type": "markdown",
   "metadata": {},
   "source": [
    "Comparing data samples"
   ]
  },
  {
   "cell_type": "markdown",
   "metadata": {},
   "source": [
    "## Student's t-test"
   ]
  },
  {
   "cell_type": "markdown",
   "metadata": {},
   "source": [
    "Test - are means of two independent samples significantly different\n",
    "\n",
    "Assumptions:\n",
    "- independent and identically distributed observations\n",
    "- normally distributed observations\n",
    "- same variance for each observation\n",
    "\n",
    "Hypothesis:\n",
    "- The means of the samples are equal\n",
    "- The means of the samples are not equal"
   ]
  },
  {
   "cell_type": "code",
   "execution_count": null,
   "metadata": {},
   "outputs": [],
   "source": [
    "# Import module\n",
    "from scipy.stats import ttest_ind\n",
    "\n",
    "#initialize data\n",
    "data1 = [0.873, 2.817, 0.121, -0.945, -0.055, -1.436, 0.360, -1.478, -1.637, -1.869]\n",
    "data2 = [1.142, -0.432, -0.938, -0.729, -0.846, -0.157, 0.500, 1.183, -1.075, -0.169]\n",
    "\n",
    "#get results\n",
    "stat, p = ttest_ind(data1, data2)\n",
    "\n",
    "#print results\n",
    "print('stat=%.3f, p=%.3f' % (stat, p))\n",
    "if p > 0.05:\n",
    " print('Probably the same distribution')\n",
    "else:\n",
    " print('Probably different distributions')"
   ]
  },
  {
   "cell_type": "markdown",
   "metadata": {},
   "source": [
    "## Paired Student's t-test"
   ]
  },
  {
   "cell_type": "markdown",
   "metadata": {},
   "source": [
    "Tests if means of two paired samples are significantly different\n",
    "\n",
    "Assumptions:\n",
    "- independent and identically distributed observations\n",
    "- normally distributed observations\n",
    "- same variance in observations\n",
    "- observations are paired in each sample\n",
    "\n",
    "Hypothesis:\n",
    "- The means are equal\n",
    "- The means are not equal"
   ]
  },
  {
   "cell_type": "code",
   "execution_count": 2,
   "metadata": {},
   "outputs": [
    {
     "name": "stdout",
     "output_type": "stream",
     "text": [
      "stat=-0.334, p=0.746\n",
      "Probably the same distribution\n"
     ]
    }
   ],
   "source": [
    "# import library\n",
    "from scipy.stats import ttest_rel\n",
    "\n",
    "#data\n",
    "data1 = [0.873, 2.817, 0.121, -0.945, -0.055, -1.436, 0.360, -1.478, -1.637, -1.869]\n",
    "data2 = [1.142, -0.432, -0.938, -0.729, -0.846, -0.157, 0.500, 1.183, -1.075, -0.169]\n",
    "\n",
    "#get results\n",
    "stat, p = ttest_rel(data1, data2)\n",
    "\n",
    "#print results\n",
    "print('stat=%.3f, p=%.3f' % (stat, p))\n",
    "if p > 0.05:\n",
    " print('Probably the same distribution')\n",
    "else:\n",
    " print('Probably different distributions')"
   ]
  },
  {
   "cell_type": "markdown",
   "metadata": {},
   "source": [
    "## ANOVA"
   ]
  },
  {
   "cell_type": "markdown",
   "metadata": {},
   "source": [
    "Tests if means of >= two independent samples are significantly different\n",
    "\n",
    "Assumptions:\n",
    "- independent and identically distributed\n",
    "- normally distributed observations\n",
    "- same variance for each observation\n",
    "\n",
    "Hypothesis:\n",
    "- The means fo the samples are equal\n",
    "- The means are not equal"
   ]
  },
  {
   "cell_type": "code",
   "execution_count": 3,
   "metadata": {},
   "outputs": [
    {
     "name": "stdout",
     "output_type": "stream",
     "text": [
      "stat=0.096, p=0.908\n",
      "Probably the same distribution\n"
     ]
    }
   ],
   "source": [
    "#import module\n",
    "from scipy.stats import f_oneway\n",
    "\n",
    "#initialize ddata\n",
    "data1 = [0.873, 2.817, 0.121, -0.945, -0.055, -1.436, 0.360, -1.478, -1.637, -1.869]\n",
    "data2 = [1.142, -0.432, -0.938, -0.729, -0.846, -0.157, 0.500, 1.183, -1.075, -0.169]\n",
    "data3 = [-0.208, 0.696, 0.928, -1.148, -0.213, 0.229, 0.137, 0.269, -0.870, -1.204]\n",
    "\n",
    "#get results\n",
    "stat, p = f_oneway(data1, data2, data3)\n",
    "\n",
    "#print results\n",
    "print('stat=%.3f, p=%.3f' % (stat, p))\n",
    "if p > 0.05:\n",
    " print('Probably the same distribution')\n",
    "else:\n",
    " print('Probably different distributions')"
   ]
  },
  {
   "cell_type": "markdown",
   "metadata": {},
   "source": [
    "## Repeated Measures of ANOVA Test"
   ]
  },
  {
   "cell_type": "markdown",
   "metadata": {},
   "source": [
    "Tests if means of >= two paires samples are significantly different\n",
    "\n",
    "Assumptions:\n",
    "- independent and identically distributed observations\n",
    "- normally distributed\n",
    "- same variance\n",
    "- paired observations\n",
    "\n",
    "Hypothesis:\n",
    "- The means are equal\n",
    "- The means are not equal\n",
    "\n",
    "\n",
    "*Not supported in Python at the moment*"
   ]
  },
  {
   "cell_type": "markdown",
   "metadata": {},
   "source": [
    "# Non-Parametric Statisitical Hypothesis Tests"
   ]
  },
  {
   "cell_type": "markdown",
   "metadata": {},
   "source": [
    "## Mann-Whitney U Test"
   ]
  },
  {
   "cell_type": "markdown",
   "metadata": {},
   "source": [
    "Test if distributions of two independent samples are equal or not\n",
    "\n",
    "Assumptions:\n",
    "- indpendent and identically distributed observations\n",
    "- observations can be ranked\n",
    "\n",
    "Hypothesis:\n",
    "- Distributions are equal\n",
    "- distributions are not equal"
   ]
  },
  {
   "cell_type": "code",
   "execution_count": 4,
   "metadata": {},
   "outputs": [
    {
     "name": "stdout",
     "output_type": "stream",
     "text": [
      "stat=40.000, p=0.473\n",
      "Probably the same distribution\n"
     ]
    }
   ],
   "source": [
    "\n",
    "# Import module\n",
    "from scipy.stats import mannwhitneyu\n",
    "\n",
    "#decalre data\n",
    "data1 = [0.873, 2.817, 0.121, -0.945, -0.055, -1.436, 0.360, -1.478, -1.637, -1.869]\n",
    "data2 = [1.142, -0.432, -0.938, -0.729, -0.846, -0.157, 0.500, 1.183, -1.075, -0.169]\n",
    "\n",
    "#get results\n",
    "stat, p = mannwhitneyu(data1, data2)\n",
    "\n",
    "#print results\n",
    "print('stat=%.3f, p=%.3f' % (stat, p))\n",
    "if p > 0.05:\n",
    " print('Probably the same distribution')\n",
    "else:\n",
    " print('Probably different distributions')"
   ]
  },
  {
   "cell_type": "markdown",
   "metadata": {},
   "source": [
    "## Wilcoxon Signed-Rank Test"
   ]
  },
  {
   "cell_type": "markdown",
   "metadata": {},
   "source": [
    "Tests if distributions of two paired samples are equal or not\n",
    "\n",
    "Assumptions:\n",
    "- independent and identically distributed\n",
    "- observations can be ranked\n",
    "- observatiosn are paired across each sample"
   ]
  },
  {
   "cell_type": "code",
   "execution_count": 5,
   "metadata": {},
   "outputs": [
    {
     "name": "stdout",
     "output_type": "stream",
     "text": [
      "stat=21.000, p=0.557\n",
      "Probably the same distribution\n"
     ]
    }
   ],
   "source": [
    "\n",
    "# Example of the Wilcoxon Signed-Rank Test\n",
    "#import module\n",
    "from scipy.stats import wilcoxon\n",
    "\n",
    "#data \n",
    "data1 = [0.873, 2.817, 0.121, -0.945, -0.055, -1.436, 0.360, -1.478, -1.637, -1.869]\n",
    "data2 = [1.142, -0.432, -0.938, -0.729, -0.846, -0.157, 0.500, 1.183, -1.075, -0.169]\n",
    "\n",
    "# get results\n",
    "stat, p = wilcoxon(data1, data2)\n",
    "\n",
    "#print results\n",
    "print('stat=%.3f, p=%.3f' % (stat, p))\n",
    "if p > 0.05:\n",
    " print('Probably the same distribution')\n",
    "else:\n",
    " print('Probably different distributions')"
   ]
  },
  {
   "cell_type": "markdown",
   "metadata": {},
   "source": [
    "## Kruskal-Wallis H Test"
   ]
  },
  {
   "cell_type": "markdown",
   "metadata": {},
   "source": [
    "Tests distributions of two or more independent samples are equal\n",
    "\n",
    "Assumptions:\n",
    "- independent and identically distributed\n",
    "- obcervations can be ranked\n",
    "\n",
    "Hypothesis:\n",
    "- Distributions are equal\n",
    "- Distributions are not equal"
   ]
  },
  {
   "cell_type": "code",
   "execution_count": 6,
   "metadata": {},
   "outputs": [
    {
     "name": "stdout",
     "output_type": "stream",
     "text": [
      "stat=0.571, p=0.450\n",
      "Probably the same distribution\n"
     ]
    }
   ],
   "source": [
    "#import library\n",
    "from scipy.stats import kruskal\n",
    "\n",
    "#decalre data\n",
    "data1 = [0.873, 2.817, 0.121, -0.945, -0.055, -1.436, 0.360, -1.478, -1.637, -1.869]\n",
    "data2 = [1.142, -0.432, -0.938, -0.729, -0.846, -0.157, 0.500, 1.183, -1.075, -0.169]\n",
    "\n",
    "#get results\n",
    "stat, p = kruskal(data1, data2)\n",
    "\n",
    "#print resutlts\n",
    "print('stat=%.3f, p=%.3f' % (stat, p))\n",
    "if p > 0.05:\n",
    " print('Probably the same distribution')\n",
    "else:\n",
    " print('Probably different distributions')"
   ]
  },
  {
   "cell_type": "markdown",
   "metadata": {},
   "source": [
    "## Friedman Test"
   ]
  },
  {
   "cell_type": "markdown",
   "metadata": {},
   "source": [
    "Tests if distributions of >= two paired samples are equal or not\n",
    "\n",
    "Assumptions:\n",
    "- independent and identically distributed\n",
    "- observations can be ranked\n",
    "- paired observations across each sample\n",
    "\n",
    "Hypothesis:\n",
    "- The distributions are equal\n",
    "- The distributions are not equal"
   ]
  },
  {
   "cell_type": "code",
   "execution_count": null,
   "metadata": {},
   "outputs": [],
   "source": [
    "#import library\n",
    "from scipy.stats import friedmanchisquare\n",
    "\n",
    "#declare data\n",
    "data1 = [0.873, 2.817, 0.121, -0.945, -0.055, -1.436, 0.360, -1.478, -1.637, -1.869]\n",
    "data2 = [1.142, -0.432, -0.938, -0.729, -0.846, -0.157, 0.500, 1.183, -1.075, -0.169]\n",
    "data3 = [-0.208, 0.696, 0.928, -1.148, -0.213, 0.229, 0.137, 0.269, -0.870, -1.204]\n",
    "\n",
    "#get results\n",
    "stat, p = friedmanchisquare(data1, data2, data3)\n",
    "\n",
    "#print results\n",
    "print('stat=%.3f, p=%.3f' % (stat, p))\n",
    "if p > 0.05:\n",
    " print('Probably the same distribution')\n",
    "else:\n",
    " print('Probably different distributions')"
   ]
  }
 ],
 "metadata": {
  "kernelspec": {
   "display_name": "ds_env",
   "language": "python",
   "name": "ds_env"
  },
  "language_info": {
   "codemirror_mode": {
    "name": "ipython",
    "version": 3
   },
   "file_extension": ".py",
   "mimetype": "text/x-python",
   "name": "python",
   "nbconvert_exporter": "python",
   "pygments_lexer": "ipython3",
   "version": "3.12.2"
  },
  "orig_nbformat": 4
 },
 "nbformat": 4,
 "nbformat_minor": 2
}
